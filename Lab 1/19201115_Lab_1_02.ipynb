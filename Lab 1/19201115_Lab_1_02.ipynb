{
  "nbformat": 4,
  "nbformat_minor": 0,
  "metadata": {
    "colab": {
      "provenance": []
    },
    "kernelspec": {
      "name": "python3",
      "display_name": "Python 3"
    },
    "language_info": {
      "name": "python"
    }
  },
  "cells": [
    {
      "cell_type": "code",
      "execution_count": 19,
      "metadata": {
        "colab": {
          "base_uri": "https://localhost:8080/"
        },
        "id": "8zKYMdqQSIzB",
        "outputId": "e73f6619-0e15-44d0-ad6c-f22d7e7f3d01"
      },
      "outputs": [
        {
          "output_type": "stream",
          "name": "stdout",
          "text": [
            "Enter the starting point: Arad\n",
            "Enter the ending point: Bucharest\n",
            "Arad -> Sibiu -> RimnicuVilcea -> Pitesti -> Bucharest\n",
            "Total Distance:  418\n"
          ]
        }
      ],
      "source": [
        "from collections import defaultdict\n",
        "from queue import PriorityQueue\n",
        "inp = open(\"/content/input.txt\", 'r')\n",
        "\n",
        "\n",
        "\n",
        "\n",
        "def a_star(source):\n",
        "  for key in heu:\n",
        "    dist[key] = 100000\n",
        "\n",
        "  dist[source] = 0\n",
        "\n",
        "  fringe = PriorityQueue()\n",
        "\n",
        "  fringe.put((heu[source], source))\n",
        "\n",
        "  while not fringe.empty():\n",
        "    pair = fringe.get()\n",
        "    cost = pair[0]\n",
        "    node = pair[1]\n",
        "\n",
        "    for adj_pair in adj_lst[node]:\n",
        "      adj_cost = adj_pair[0]\n",
        "      adj_node = adj_pair[1]\n",
        "\n",
        "      if cost + adj_cost + heu[adj_node] - heu[node] < dist[adj_node]:\n",
        "        dist[adj_node] = cost + adj_cost + heu[adj_node] - heu[node]\n",
        "        fringe.put((dist[adj_node], adj_node))\n",
        "        parent[adj_node] = node\n",
        "\n",
        "\n",
        "\n",
        "adj_lst = defaultdict(list)\n",
        "heu = dict()\n",
        "\n",
        "for line in inp:\n",
        "  lst = line.split()\n",
        "\n",
        "  heu[lst[0]] = int(lst[1])\n",
        "  for i in range(2, len(lst)-1, 2):\n",
        "    adj_lst[lst[0]].append((int(lst[i+1]), lst[i]))\n",
        "\n",
        "\n",
        "#print(adj_lst)\n",
        "#print(heu)\n",
        "\n",
        "start = input(\"Enter the starting point: \")\n",
        "end = input(\"Enter the ending point: \")\n",
        "\n",
        "parent = dict()\n",
        "dist = dict()\n",
        "\n",
        "a_star(start)\n",
        "\n",
        "path = []\n",
        "\n",
        "current = end\n",
        "while current != start:\n",
        "  path.append(current)\n",
        "  current = parent[current]\n",
        "path.append(start)\n",
        "\n",
        "path.reverse()\n",
        "\n",
        "#print(path)\n",
        "#print(dist[end])\n",
        "\n",
        "#print(dist)\n",
        "\n",
        "if (path[(len(path))-1] != end ):\n",
        "  print(\"NO PATH FOUND\")\n",
        "else:\n",
        "  for i in range(len(path)):\n",
        "    if i!=len(path) -1:\n",
        "      print(path[i],end = \" -> \")\n",
        "    else:\n",
        "      print(path[i])\n",
        "  print(\"Total Distance: \",dist[end])\n",
        "\n",
        "\n",
        "\n",
        "\n",
        "\n"
      ]
    },
    {
      "cell_type": "markdown",
      "source": [
        "# New Section"
      ],
      "metadata": {
        "id": "VoPpkTzj_8Pz"
      }
    },
    {
      "cell_type": "markdown",
      "source": [
        "# New Section"
      ],
      "metadata": {
        "id": "mUn_gwIE_9aq"
      }
    },
    {
      "cell_type": "code",
      "source": [],
      "metadata": {
        "id": "HZTStEeST6fE"
      },
      "execution_count": null,
      "outputs": []
    },
    {
      "cell_type": "code",
      "source": [
        "d= {}\n",
        "d['k'] = '1'\n",
        "d['l'] = '2'\n",
        "\n",
        "for i in d:\n",
        "  print(i)"
      ],
      "metadata": {
        "colab": {
          "base_uri": "https://localhost:8080/"
        },
        "id": "5ggfR-7WbFGM",
        "outputId": "51f9a7e4-8f11-4bdc-fbb7-9170e6300fbe"
      },
      "execution_count": null,
      "outputs": [
        {
          "output_type": "stream",
          "name": "stdout",
          "text": [
            "k\n",
            "l\n"
          ]
        }
      ]
    },
    {
      "cell_type": "code",
      "source": [
        "fringe = PriorityQueue()\n",
        "\n",
        "fringe.put((22, 'tahmid'))\n",
        "fringe.put((20, 'Rifat'))\n",
        "\n",
        "print(fringe.get()[0])"
      ],
      "metadata": {
        "colab": {
          "base_uri": "https://localhost:8080/"
        },
        "id": "XBMRA37CbRTM",
        "outputId": "d88d2be0-815a-43d1-8946-bb6336dda46b"
      },
      "execution_count": null,
      "outputs": [
        {
          "output_type": "stream",
          "name": "stdout",
          "text": [
            "20\n"
          ]
        }
      ]
    },
    {
      "cell_type": "code",
      "source": [],
      "metadata": {
        "id": "pWtSf34Acrgu"
      },
      "execution_count": null,
      "outputs": []
    }
  ]
}