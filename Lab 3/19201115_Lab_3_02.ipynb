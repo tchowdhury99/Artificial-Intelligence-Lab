{
  "nbformat": 4,
  "nbformat_minor": 0,
  "metadata": {
    "colab": {
      "provenance": []
    },
    "kernelspec": {
      "name": "python3",
      "display_name": "Python 3"
    },
    "language_info": {
      "name": "python"
    }
  },
  "cells": [
    {
      "cell_type": "code",
      "execution_count": 3,
      "metadata": {
        "colab": {
          "base_uri": "https://localhost:8080/"
        },
        "id": "LkLojzzLRt98",
        "outputId": "5a7d90cb-ca37-4ed7-d7b7-0f051c230145"
      },
      "outputs": [
        {
          "output_type": "stream",
          "name": "stdout",
          "text": [
            "Enter your id: 25485465\n",
            "Generated 8 random points between the minimum and maximum point limits: [71, 51, 20, 83, 26, 55, 23, 58]\n",
            "Total points to win: 56\n",
            "Achieved point by applying alpha-beta pruning = 71\n",
            "The winner is Optimus Prime\n",
            "\n",
            "After the shuffle:\n",
            "List of all points values from each shuffles: [71, 58, 51, 71, 71, 55, 58, 71]\n",
            "The maximum value of all shuffles: 71\n",
            "Won 6 times out of 8 number of shuffles\n"
          ]
        }
      ],
      "source": [
        "import random\n",
        "\n",
        "def minimax(depth, parent_index, maximizingPlayer, alpha, beta):\n",
        "\n",
        "    if depth == 0:\n",
        "        return values[parent_index]\n",
        "\n",
        "    if maximizingPlayer:\n",
        "\n",
        "        max_val = -int(1e9)\n",
        "\n",
        "        for i in range(0, 2):\n",
        "\n",
        "            backup_val = minimax(depth - 1, parent_index * 2 + i, False, alpha, beta)\n",
        "            max_val = max(max_val, backup_val)\n",
        "            alpha = max(alpha, max_val)\n",
        "\n",
        "            if alpha >= beta:\n",
        "                break\n",
        "\n",
        "        return max_val\n",
        "\n",
        "    else:\n",
        "        min_val = int(1e9)\n",
        "\n",
        "        for i in range(0, 2):\n",
        "\n",
        "            backup_val = minimax(depth - 1, parent_index * 2 + i, True, alpha, beta)\n",
        "            min_val = min(min_val, backup_val)\n",
        "            beta = min(beta, min_val)\n",
        "\n",
        "\n",
        "            if alpha >= beta:\n",
        "                break\n",
        "\n",
        "        return min_val\n",
        "\n",
        "values = []\n",
        "value = input(\"Enter your id: \")\n",
        "\n",
        "min_point = int(value[4])\n",
        "win_point = int(value[-1] + value[-2])\n",
        "max_point = int(win_point * 1.5)\n",
        "\n",
        "for i in range(8):\n",
        "  values.append(int(random.randint(min_point, max_point)))\n",
        "\n",
        "alpha = -int(1e9)\n",
        "beta = int(1e9)\n",
        "gained_point = minimax(3, 0, True, alpha, beta)\n",
        "\n",
        "print(f\"Generated 8 random points between the minimum and maximum point limits: {values}\")\n",
        "print(f\"Total points to win: {win_point}\")\n",
        "print(f\"Achieved point by applying alpha-beta pruning = {gained_point}\")\n",
        "\n",
        "if gained_point >= win_point:\n",
        "  print(\"The winner is Optimus Prime\")\n",
        "else:\n",
        "  print(\"The winner is Megatron\")\n",
        "\n",
        "#Task - 02\n",
        "shuffle_quantity = int(value[3])\n",
        "achieved_points = []\n",
        "\n",
        "win_count = 0\n",
        "for i in range(shuffle_quantity):\n",
        "  random.shuffle(values)\n",
        "  gained_point = minimax(3, 0, True, alpha, beta)\n",
        "  achieved_points.append(gained_point)\n",
        "  if gained_point >= win_point:\n",
        "    win_count += 1\n",
        "\n",
        "print()\n",
        "print(f\"After the shuffle:\\nList of all points values from each shuffles: {achieved_points}\")\n",
        "print(f\"The maximum value of all shuffles: {max(achieved_points)}\")\n",
        "print(f\"Won {win_count} times out of {shuffle_quantity} number of shuffles\")"
      ]
    }
  ]
}